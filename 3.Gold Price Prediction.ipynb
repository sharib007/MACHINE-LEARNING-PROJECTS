{
 "cells": [
  {
   "cell_type": "code",
   "execution_count": 1,
   "id": "6132cba1",
   "metadata": {},
   "outputs": [],
   "source": [
    "import numpy as np\n",
    "import pandas as pd\n",
    "import matplotlib.pyplot as plt\n",
    "import seaborn as sns\n",
    "from sklearn.model_selection import train_test_split\n",
    "from sklearn.ensemble import RandomForestRegressor\n",
    "from sklearn.metrics import r2_score"
   ]
  },
  {
   "cell_type": "code",
   "execution_count": 2,
   "id": "494d14eb",
   "metadata": {},
   "outputs": [],
   "source": [
    "gold = pd.read_csv('gld_price_data.csv')"
   ]
  },
  {
   "cell_type": "code",
   "execution_count": 3,
   "id": "fb6ce913",
   "metadata": {},
   "outputs": [
    {
     "data": {
      "text/html": [
       "<div>\n",
       "<style scoped>\n",
       "    .dataframe tbody tr th:only-of-type {\n",
       "        vertical-align: middle;\n",
       "    }\n",
       "\n",
       "    .dataframe tbody tr th {\n",
       "        vertical-align: top;\n",
       "    }\n",
       "\n",
       "    .dataframe thead th {\n",
       "        text-align: right;\n",
       "    }\n",
       "</style>\n",
       "<table border=\"1\" class=\"dataframe\">\n",
       "  <thead>\n",
       "    <tr style=\"text-align: right;\">\n",
       "      <th></th>\n",
       "      <th>Date</th>\n",
       "      <th>SPX</th>\n",
       "      <th>GLD</th>\n",
       "      <th>USO</th>\n",
       "      <th>SLV</th>\n",
       "      <th>EUR/USD</th>\n",
       "    </tr>\n",
       "  </thead>\n",
       "  <tbody>\n",
       "    <tr>\n",
       "      <th>0</th>\n",
       "      <td>1/2/2008</td>\n",
       "      <td>1447.160034</td>\n",
       "      <td>84.860001</td>\n",
       "      <td>78.470001</td>\n",
       "      <td>15.180</td>\n",
       "      <td>1.471692</td>\n",
       "    </tr>\n",
       "    <tr>\n",
       "      <th>1</th>\n",
       "      <td>1/3/2008</td>\n",
       "      <td>1447.160034</td>\n",
       "      <td>85.570000</td>\n",
       "      <td>78.370003</td>\n",
       "      <td>15.285</td>\n",
       "      <td>1.474491</td>\n",
       "    </tr>\n",
       "    <tr>\n",
       "      <th>2</th>\n",
       "      <td>1/4/2008</td>\n",
       "      <td>1411.630005</td>\n",
       "      <td>85.129997</td>\n",
       "      <td>77.309998</td>\n",
       "      <td>15.167</td>\n",
       "      <td>1.475492</td>\n",
       "    </tr>\n",
       "    <tr>\n",
       "      <th>3</th>\n",
       "      <td>1/7/2008</td>\n",
       "      <td>1416.180054</td>\n",
       "      <td>84.769997</td>\n",
       "      <td>75.500000</td>\n",
       "      <td>15.053</td>\n",
       "      <td>1.468299</td>\n",
       "    </tr>\n",
       "    <tr>\n",
       "      <th>4</th>\n",
       "      <td>1/8/2008</td>\n",
       "      <td>1390.189941</td>\n",
       "      <td>86.779999</td>\n",
       "      <td>76.059998</td>\n",
       "      <td>15.590</td>\n",
       "      <td>1.557099</td>\n",
       "    </tr>\n",
       "  </tbody>\n",
       "</table>\n",
       "</div>"
      ],
      "text/plain": [
       "       Date          SPX        GLD        USO     SLV   EUR/USD\n",
       "0  1/2/2008  1447.160034  84.860001  78.470001  15.180  1.471692\n",
       "1  1/3/2008  1447.160034  85.570000  78.370003  15.285  1.474491\n",
       "2  1/4/2008  1411.630005  85.129997  77.309998  15.167  1.475492\n",
       "3  1/7/2008  1416.180054  84.769997  75.500000  15.053  1.468299\n",
       "4  1/8/2008  1390.189941  86.779999  76.059998  15.590  1.557099"
      ]
     },
     "execution_count": 3,
     "metadata": {},
     "output_type": "execute_result"
    }
   ],
   "source": [
    "gold.head()"
   ]
  },
  {
   "cell_type": "markdown",
   "id": "9099eb9e",
   "metadata": {},
   "source": [
    "# getting some basic informations about the data"
   ]
  },
  {
   "cell_type": "code",
   "execution_count": 4,
   "id": "c14a001e",
   "metadata": {},
   "outputs": [
    {
     "data": {
      "text/plain": [
       "(2290, 6)"
      ]
     },
     "execution_count": 4,
     "metadata": {},
     "output_type": "execute_result"
    }
   ],
   "source": [
    "gold.shape"
   ]
  },
  {
   "cell_type": "code",
   "execution_count": 5,
   "id": "6858a6f3",
   "metadata": {},
   "outputs": [
    {
     "name": "stdout",
     "output_type": "stream",
     "text": [
      "<class 'pandas.core.frame.DataFrame'>\n",
      "RangeIndex: 2290 entries, 0 to 2289\n",
      "Data columns (total 6 columns):\n",
      " #   Column   Non-Null Count  Dtype  \n",
      "---  ------   --------------  -----  \n",
      " 0   Date     2290 non-null   object \n",
      " 1   SPX      2290 non-null   float64\n",
      " 2   GLD      2290 non-null   float64\n",
      " 3   USO      2290 non-null   float64\n",
      " 4   SLV      2290 non-null   float64\n",
      " 5   EUR/USD  2290 non-null   float64\n",
      "dtypes: float64(5), object(1)\n",
      "memory usage: 107.5+ KB\n"
     ]
    }
   ],
   "source": [
    "gold.info()"
   ]
  },
  {
   "cell_type": "code",
   "execution_count": 6,
   "id": "74c14828",
   "metadata": {},
   "outputs": [
    {
     "data": {
      "text/plain": [
       "Date       0\n",
       "SPX        0\n",
       "GLD        0\n",
       "USO        0\n",
       "SLV        0\n",
       "EUR/USD    0\n",
       "dtype: int64"
      ]
     },
     "execution_count": 6,
     "metadata": {},
     "output_type": "execute_result"
    }
   ],
   "source": [
    "# checking the number of missing values\n",
    "gold.isnull().sum()"
   ]
  },
  {
   "cell_type": "code",
   "execution_count": 7,
   "id": "6ac57501",
   "metadata": {},
   "outputs": [
    {
     "data": {
      "text/html": [
       "<div>\n",
       "<style scoped>\n",
       "    .dataframe tbody tr th:only-of-type {\n",
       "        vertical-align: middle;\n",
       "    }\n",
       "\n",
       "    .dataframe tbody tr th {\n",
       "        vertical-align: top;\n",
       "    }\n",
       "\n",
       "    .dataframe thead th {\n",
       "        text-align: right;\n",
       "    }\n",
       "</style>\n",
       "<table border=\"1\" class=\"dataframe\">\n",
       "  <thead>\n",
       "    <tr style=\"text-align: right;\">\n",
       "      <th></th>\n",
       "      <th>SPX</th>\n",
       "      <th>GLD</th>\n",
       "      <th>USO</th>\n",
       "      <th>SLV</th>\n",
       "      <th>EUR/USD</th>\n",
       "    </tr>\n",
       "  </thead>\n",
       "  <tbody>\n",
       "    <tr>\n",
       "      <th>count</th>\n",
       "      <td>2290.000000</td>\n",
       "      <td>2290.000000</td>\n",
       "      <td>2290.000000</td>\n",
       "      <td>2290.000000</td>\n",
       "      <td>2290.000000</td>\n",
       "    </tr>\n",
       "    <tr>\n",
       "      <th>mean</th>\n",
       "      <td>1654.315776</td>\n",
       "      <td>122.732875</td>\n",
       "      <td>31.842221</td>\n",
       "      <td>20.084997</td>\n",
       "      <td>1.283653</td>\n",
       "    </tr>\n",
       "    <tr>\n",
       "      <th>std</th>\n",
       "      <td>519.111540</td>\n",
       "      <td>23.283346</td>\n",
       "      <td>19.523517</td>\n",
       "      <td>7.092566</td>\n",
       "      <td>0.131547</td>\n",
       "    </tr>\n",
       "    <tr>\n",
       "      <th>min</th>\n",
       "      <td>676.530029</td>\n",
       "      <td>70.000000</td>\n",
       "      <td>7.960000</td>\n",
       "      <td>8.850000</td>\n",
       "      <td>1.039047</td>\n",
       "    </tr>\n",
       "    <tr>\n",
       "      <th>25%</th>\n",
       "      <td>1239.874969</td>\n",
       "      <td>109.725000</td>\n",
       "      <td>14.380000</td>\n",
       "      <td>15.570000</td>\n",
       "      <td>1.171313</td>\n",
       "    </tr>\n",
       "    <tr>\n",
       "      <th>50%</th>\n",
       "      <td>1551.434998</td>\n",
       "      <td>120.580002</td>\n",
       "      <td>33.869999</td>\n",
       "      <td>17.268500</td>\n",
       "      <td>1.303297</td>\n",
       "    </tr>\n",
       "    <tr>\n",
       "      <th>75%</th>\n",
       "      <td>2073.010070</td>\n",
       "      <td>132.840004</td>\n",
       "      <td>37.827501</td>\n",
       "      <td>22.882500</td>\n",
       "      <td>1.369971</td>\n",
       "    </tr>\n",
       "    <tr>\n",
       "      <th>max</th>\n",
       "      <td>2872.870117</td>\n",
       "      <td>184.589996</td>\n",
       "      <td>117.480003</td>\n",
       "      <td>47.259998</td>\n",
       "      <td>1.598798</td>\n",
       "    </tr>\n",
       "  </tbody>\n",
       "</table>\n",
       "</div>"
      ],
      "text/plain": [
       "               SPX          GLD          USO          SLV      EUR/USD\n",
       "count  2290.000000  2290.000000  2290.000000  2290.000000  2290.000000\n",
       "mean   1654.315776   122.732875    31.842221    20.084997     1.283653\n",
       "std     519.111540    23.283346    19.523517     7.092566     0.131547\n",
       "min     676.530029    70.000000     7.960000     8.850000     1.039047\n",
       "25%    1239.874969   109.725000    14.380000    15.570000     1.171313\n",
       "50%    1551.434998   120.580002    33.869999    17.268500     1.303297\n",
       "75%    2073.010070   132.840004    37.827501    22.882500     1.369971\n",
       "max    2872.870117   184.589996   117.480003    47.259998     1.598798"
      ]
     },
     "execution_count": 7,
     "metadata": {},
     "output_type": "execute_result"
    }
   ],
   "source": [
    "# getting the statistical measures of the data\n",
    "gold.describe()"
   ]
  },
  {
   "cell_type": "markdown",
   "id": "68ba2e3e",
   "metadata": {},
   "source": [
    "# Correlation:\n",
    "\n",
    "Positive Correlation                                    \n",
    "Negative Correlation"
   ]
  },
  {
   "cell_type": "code",
   "execution_count": 8,
   "id": "f95964a8",
   "metadata": {},
   "outputs": [
    {
     "name": "stderr",
     "output_type": "stream",
     "text": [
      "C:\\Users\\nk\\AppData\\Local\\Temp\\ipykernel_11564\\2859792259.py:1: FutureWarning: The default value of numeric_only in DataFrame.corr is deprecated. In a future version, it will default to False. Select only valid columns or specify the value of numeric_only to silence this warning.\n",
      "  correlation = gold.corr()\n"
     ]
    }
   ],
   "source": [
    "correlation = gold.corr()"
   ]
  },
  {
   "cell_type": "code",
   "execution_count": 9,
   "id": "69061fdb",
   "metadata": {},
   "outputs": [
    {
     "data": {
      "text/plain": [
       "<Axes: >"
      ]
     },
     "execution_count": 9,
     "metadata": {},
     "output_type": "execute_result"
    },
    {
     "data": {
      "image/png": "[encoded data removed]",
      "text/plain": [
       "<Figure size 600x600 with 2 Axes>"
      ]
     },
     "metadata": {},
     "output_type": "display_data"
    }
   ],
   "source": [
    "plt.figure(figsize=(6,6))\n",
    "sns.heatmap(correlation,cbar=True,square=True,annot=True,annot_kws={\"size\":8},cmap=\"plasma\")"
   ]
  },
  {
   "cell_type": "code",
   "execution_count": null,
   "id": "c254ebee",
   "metadata": {},
   "outputs": [],
   "source": []
  },
  {
   "cell_type": "code",
   "execution_count": 10,
   "id": "834d5895",
   "metadata": {},
   "outputs": [
    {
     "name": "stdout",
     "output_type": "stream",
     "text": [
      "SPX        0.049345\n",
      "GLD        1.000000\n",
      "USO       -0.186360\n",
      "SLV        0.866632\n",
      "EUR/USD   -0.024375\n",
      "Name: GLD, dtype: float64\n"
     ]
    }
   ],
   "source": [
    "print(correlation['GLD'])"
   ]
  },
  {
   "cell_type": "code",
   "execution_count": 11,
   "id": "4faafd42",
   "metadata": {},
   "outputs": [],
   "source": [
    "# checking the distribution of the GLD Price"
   ]
  },
  {
   "cell_type": "code",
   "execution_count": 12,
   "id": "9610fdbb",
   "metadata": {},
   "outputs": [
    {
     "data": {
      "text/plain": [
       "<seaborn.axisgrid.FacetGrid at 0x28480512650>"
      ]
     },
     "execution_count": 12,
     "metadata": {},
     "output_type": "execute_result"
    },
    {
     "data": {
      "image/png": "[encoded data removed]",
      "text/plain": [
       "<Figure size 500x500 with 1 Axes>"
      ]
     },
     "metadata": {},
     "output_type": "display_data"
    }
   ],
   "source": [
    "sns.displot(gold['GLD'],color='green')"
   ]
  },
  {
   "cell_type": "markdown",
   "id": "70235619",
   "metadata": {},
   "source": [
    "# Splitting the Features and Target"
   ]
  },
  {
   "cell_type": "code",
   "execution_count": 13,
   "id": "671ca93c",
   "metadata": {},
   "outputs": [],
   "source": [
    "X = gold.drop(['Date','GLD'],axis=1)\n",
    "y = gold['GLD']"
   ]
  },
  {
   "cell_type": "code",
   "execution_count": 14,
   "id": "80e694c8",
   "metadata": {},
   "outputs": [
    {
     "data": {
      "text/plain": [
       "(2290,)"
      ]
     },
     "execution_count": 14,
     "metadata": {},
     "output_type": "execute_result"
    }
   ],
   "source": [
    "y.shape"
   ]
  },
  {
   "cell_type": "markdown",
   "id": "2ddb4514",
   "metadata": {},
   "source": [
    "# training the model"
   ]
  },
  {
   "cell_type": "code",
   "execution_count": 15,
   "id": "9e29f289",
   "metadata": {},
   "outputs": [],
   "source": [
    "X_train, X_test, y_train, y_test = train_test_split(X, y, test_size=0.2, random_state=42)"
   ]
  },
  {
   "cell_type": "code",
   "execution_count": 19,
   "id": "fcc71044",
   "metadata": {},
   "outputs": [
    {
     "data": {
      "text/plain": [
       "0.9904249776549925"
      ]
     },
     "execution_count": 19,
     "metadata": {},
     "output_type": "execute_result"
    }
   ],
   "source": [
    "reg = RandomForestRegressor()\n",
    "reg.fit(X_train,y_train)\n",
    "pred = reg.predict(X_test)\n",
    "r2_score(y_test,pred)"
   ]
  },
  {
   "cell_type": "code",
   "execution_count": 20,
   "id": "92a6b6c2",
   "metadata": {},
   "outputs": [
    {
     "name": "stdout",
     "output_type": "stream",
     "text": [
      "[122.37769973 130.11870266 127.62050011  96.75449759 118.87490041\n",
      " 114.50759936 124.99900152 117.72659951 108.02420127  98.30299936\n",
      "  95.53429994 167.65639821 149.86550139 116.41210078 170.85090187\n",
      "  85.11049997 123.10399885 109.40349729 113.19360064 131.52940362\n",
      " 124.31139889 113.82920089 115.89540085 108.83019971 108.6129015\n",
      " 125.86779934 119.16119999 112.7070993  113.47250153 125.54439878\n",
      " 146.31340125  89.55040012 167.72360018 113.50329951 108.43930064\n",
      " 120.16770128 142.15859897 161.42110237 174.22879849 152.93220158\n",
      " 119.63830103 113.36300043 121.34429945 113.72889939 121.98580022\n",
      " 107.93040073  88.7001989  114.61299917 129.84970203 117.93990103\n",
      " 104.16929969 129.82600201 107.27719847 160.53400399 131.81600031\n",
      " 118.06309972 146.95710087 135.41810248  95.67140129 124.69240128\n",
      " 115.46239888  85.8385007  104.20339934 113.97090081  84.16309934\n",
      " 122.30190019 116.55299939 113.57660224 165.9757037   92.1795003\n",
      "  80.35910079 160.97930014 158.8750021  106.83329974 150.05550158\n",
      " 109.67129748 122.95210022 128.52430017 113.18389857 120.14210055\n",
      " 135.58759757 107.46850066  93.80860073  92.66909895 111.39370048\n",
      " 118.34670023 108.50779912 112.19079948 167.83009877 160.82369852\n",
      " 107.63909848 125.08720016 108.29610034 115.24950188 126.9111981\n",
      " 108.46529995 160.99410258  84.61599876 131.31270394 114.5213\n",
      " 155.2641001  110.2520983  113.94160004 107.3001997  137.98179962\n",
      "  88.24239941  92.46969887 175.36110109 119.10030064 118.72860012\n",
      " 121.2385006  171.383697   131.93440046 119.93390048 158.8894021\n",
      " 118.91209818 119.18749955 110.23429918 119.66559927 122.05040019\n",
      " 129.00349883 114.83030023  89.43989927 114.34970119 131.80639965\n",
      " 115.27060119 125.12779974  90.89840045 106.91260015 117.13840103\n",
      " 109.25740002 166.15310147  80.60560056 121.89153687  73.10990128\n",
      " 111.10399912 100.03010099 124.06689998  75.93299989 125.28199936\n",
      " 119.87290033 105.71539952  90.51189928 132.29939996 139.51980164\n",
      " 176.09029952 126.73379918 127.07679888 123.4470004   91.95089879\n",
      " 150.45970032 102.9256991  117.59319975 134.1975979  135.48619898\n",
      " 118.04640043 117.08540175 102.12289792 123.99529869  89.72469997\n",
      " 108.28939964 117.32290025 167.66630093 117.17470098 117.60599956\n",
      " 155.60700137 111.08730008  87.26309906 116.71360117 124.1616994\n",
      " 120.50370224 118.48110023  96.48709875 108.96300022 115.04959918\n",
      " 127.5839008  156.16740088 107.85160102 124.07889898 139.22640188\n",
      "  90.94160052 118.41030115 130.78260075 114.26859885 108.34049931\n",
      " 119.33490041 127.96510063 125.82770006 144.71530135 112.41900095\n",
      "  93.68729975 115.10920012 125.51870061 120.42860169 122.28730065\n",
      "  92.87990071 121.22139868  93.22080036 119.24810022 124.4010001\n",
      " 121.85860012 131.28570044 124.33109943 114.90170133 127.4234009\n",
      " 113.22480115 165.18209862 122.36839797 119.6870017  114.29010058\n",
      " 120.18759978 120.23519967 105.78190134 116.47530041 125.78339923\n",
      " 172.10429694  85.5261999  134.15219795 127.81489889  73.70090057\n",
      " 119.16199974  88.67089982 161.87670164  92.12979966 158.86980159\n",
      " 102.40769806 103.15669931 102.53169873 118.5208995  165.30900108\n",
      " 120.27960064 135.23099856  96.53039875 113.10639935 132.25660105\n",
      " 146.10329965 125.72060025 101.59939965 125.35240074 159.4355013\n",
      " 119.80830109 126.40990067 127.53500105 115.42169951 156.79960171\n",
      " 128.77430029 114.37979952 176.70539931 119.92490208 118.92890129\n",
      " 102.7365986  160.50499906 114.73790084 118.52829941 125.48609952\n",
      " 116.67900098 114.72179955  90.78489974 101.44079943 131.76250121\n",
      " 118.94620236 168.9145985  107.69290168  86.24000072  91.71359952\n",
      " 156.524299   157.24280004 153.06559915  72.92009989 120.91889996\n",
      " 117.23440049 158.16689939 135.46639859 111.7614998  113.94339995\n",
      " 160.74900117 125.57009965 119.41600098 117.86080022 158.61450266\n",
      " 104.09349968  89.28479946  83.47549956  89.99579908 115.60160076\n",
      " 113.70949971 119.18620091 119.5977009   79.48030002  90.85480071\n",
      " 153.65210349 119.40890083 131.87340022 126.11040035 113.66260144\n",
      "  81.97960091 117.9833988   89.79010029 117.99159983 163.42160266\n",
      " 121.27900079 110.4956005  125.55299817 114.51350065 135.51780079\n",
      "  80.1293006  163.80989988 132.14020057 164.01190031 127.62569902\n",
      "  91.77419908 108.55909955 114.01409938 127.59210131 119.16030205\n",
      "  92.48369936 132.22809929 162.51380178  72.29830159 111.93359981\n",
      " 108.62469945 113.74059835 120.1993009  111.7690995  120.60299981\n",
      " 118.54460224 126.2867006  125.72850154 109.16719985 167.47190066\n",
      " 166.58999945 112.28469922 169.5514976  111.9830002  161.93710217\n",
      " 127.31479859 167.19039904 135.44130126 109.37089852 167.26590028\n",
      " 116.4884014   72.64990103 113.57710014  93.41189968  87.79570051\n",
      " 104.1427986  125.66080054 123.4773979  168.95329889 121.3698008\n",
      "  87.27139867 131.91499808 121.77210037 107.65639955 168.43090079\n",
      " 126.06879724 127.068101   113.78940079 134.84790013 125.18260112\n",
      " 144.24699945 123.3817994  118.14620009 120.81879989 166.88690063\n",
      "  71.65450044 162.8647987  167.17989892 118.27960027 103.71679833\n",
      " 127.96999899 154.32360022 171.84900063 134.97329811 126.91749966\n",
      " 123.96689999 151.28079761  87.97900001 130.92600071 111.18220047\n",
      " 163.40130056 156.47639877 167.84290126 121.59469954  89.91490036\n",
      " 132.38970164  99.68149991 127.53309791 127.94779771 108.79769974\n",
      "  91.02199902 153.24070116  95.05029888  87.65619932 125.06939938\n",
      "  87.22589802  94.68320064 113.74159969 156.44610371 147.83630051\n",
      " 105.07280029 166.38119783 111.24099993 128.31970069  90.67919981\n",
      " 109.71969937  76.51760122 110.66439958 163.31839974 154.72149847\n",
      " 152.55400212 162.00520022  92.12409861 117.96240172  93.39930101\n",
      " 130.15940126 117.3316002  117.36340023 124.01170066 120.85589974\n",
      "  97.93869912 167.25740147 145.96190179 124.5612988  169.67999807\n",
      "  84.37060004 166.73069841 130.1990018  119.69180153  88.4233999\n",
      " 120.04399857  83.65589888 118.70460104 114.14159873 116.67859965\n",
      " 155.59699763 134.47890275 118.25610104 118.91969799 123.03059872\n",
      " 115.82840099 118.53600029 122.30260014 146.40210068 152.71559982\n",
      " 168.0748012   98.24999903 160.09469908  93.08359993 143.40849859\n",
      " 121.60520101  84.20519885 106.32260009 123.48220006 169.45989646\n",
      "  93.35399878  96.32860081 152.79749977]\n"
     ]
    }
   ],
   "source": [
    "print(pred)"
   ]
  },
  {
   "cell_type": "code",
   "execution_count": null,
   "id": "11d360d6",
   "metadata": {},
   "outputs": [],
   "source": []
  },
  {
   "cell_type": "code",
   "execution_count": null,
   "id": "926b5f61",
   "metadata": {},
   "outputs": [],
   "source": []
  }
 ],
 "metadata": {
  "kernelspec": {
   "display_name": "Python 3 (ipykernel)",
   "language": "python",
   "name": "python3"
  },
  "language_info": {
   "codemirror_mode": {
    "name": "ipython",
    "version": 3
   },
   "file_extension": ".py",
   "mimetype": "text/x-python",
   "name": "python",
   "nbconvert_exporter": "python",
   "pygments_lexer": "ipython3",
   "version": "3.11.4"
  }
 },
 "nbformat": 4,
 "nbformat_minor": 5
}
